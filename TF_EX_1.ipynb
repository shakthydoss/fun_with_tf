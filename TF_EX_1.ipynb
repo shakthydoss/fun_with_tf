{
 "cells": [
  {
   "cell_type": "code",
   "execution_count": 9,
   "metadata": {},
   "outputs": [],
   "source": [
    "import tensorflow as tf\n",
    "import pandas as pd\n",
    "from sklearn.model_selection import train_test_split"
   ]
  },
  {
   "cell_type": "code",
   "execution_count": 153,
   "metadata": {},
   "outputs": [],
   "source": [
    "irish_data = pd.read_csv('iris_data.csv')\n",
    "x = irish_data.iloc[:,0:4]\n",
    "y = irish_data.iloc[:,-1]"
   ]
  },
  {
   "cell_type": "code",
   "execution_count": 154,
   "metadata": {},
   "outputs": [],
   "source": [
    "\n",
    "CSV_COLUMN_NAMES = ['SepalLength', 'SepalWidth',\n",
    "                    'PetalLength', 'PetalWidth', 'Species']\n",
    "SPECIES = ['Setosa', 'Versicolor', 'Virginica']\n",
    "\n",
    "train_path = \"http://download.tensorflow.org/data/iris_training.csv\"\n",
    "test_path = \"http://download.tensorflow.org/data/iris_test.csv\"\n",
    "\n",
    "def load_data(y_name='Species'):\n",
    "    \"\"\"Returns the iris dataset as (train_x, train_y), (test_x, test_y).\"\"\"\n",
    "\n",
    "    train = pd.read_csv(train_path, names=CSV_COLUMN_NAMES, header=0)\n",
    "    train_x, train_y = train, train.pop(y_name)\n",
    "\n",
    "    test = pd.read_csv(test_path, names=CSV_COLUMN_NAMES, header=0)\n",
    "    test_x, test_y = test, test.pop(y_name)\n",
    "\n",
    "    return (train_x, train_y), (test_x, test_y)\n",
    "\n",
    "(train_x, train_y), (test_x, test_y) = load_data()"
   ]
  },
  {
   "cell_type": "code",
   "execution_count": 156,
   "metadata": {},
   "outputs": [
    {
     "name": "stdout",
     "output_type": "stream",
     "text": [
      "     sepal_length  sepal_width  petal_length  petal_width\n",
      "116           6.5          3.0           5.5          1.8\n",
      "106           4.9          2.5           4.5          1.7\n",
      "12            4.8          3.0           1.4          0.1\n",
      "103           6.3          2.9           5.6          1.8\n",
      "60            5.0          2.0           3.5          1.0\n",
      "116    2\n",
      "106    2\n",
      "12     0\n",
      "103    2\n",
      "60     1\n",
      "Name: species, dtype: int64\n"
     ]
    }
   ],
   "source": [
    "train_x, test_x, train_y, test_y = train_test_split(x,y, test_size=0.2) \n",
    "\n",
    "print train_x.head()\n",
    "print train_y.head()"
   ]
  },
  {
   "cell_type": "code",
   "execution_count": 157,
   "metadata": {},
   "outputs": [],
   "source": [
    "def train_input_fn(features, labels, batch_size):\n",
    "    \"\"\"An input function for training\"\"\"\n",
    "    # Convert the inputs to a Dataset.\n",
    "    dataset = tf.data.Dataset.from_tensor_slices((dict(features), labels))\n",
    "\n",
    "    # Shuffle, repeat, and batch the examples.\n",
    "    dataset = dataset.shuffle(1000).repeat().batch(batch_size)\n",
    "\n",
    "    # Return the dataset.\n",
    "    return dataset"
   ]
  },
  {
   "cell_type": "code",
   "execution_count": 158,
   "metadata": {},
   "outputs": [],
   "source": [
    "# Feature columns describe how to use the input.\n",
    "my_feature_columns = []\n",
    "for key in train_x.keys():\n",
    "    my_feature_columns.append(tf.feature_column.numeric_column(key=key))"
   ]
  },
  {
   "cell_type": "code",
   "execution_count": 159,
   "metadata": {},
   "outputs": [
    {
     "name": "stdout",
     "output_type": "stream",
     "text": [
      "INFO:tensorflow:Using default config.\n",
      "INFO:tensorflow:Using config: {'_save_checkpoints_secs': 600, '_session_config': None, '_keep_checkpoint_max': 5, '_task_type': 'worker', '_global_id_in_cluster': 0, '_is_chief': True, '_cluster_spec': <tensorflow.python.training.server_lib.ClusterSpec object at 0x10cd60750>, '_evaluation_master': '', '_save_checkpoints_steps': None, '_keep_checkpoint_every_n_hours': 10000, '_service': None, '_num_ps_replicas': 0, '_tf_random_seed': None, '_master': '', '_num_worker_replicas': 1, '_task_id': 0, '_log_step_count_steps': 100, '_model_dir': 'models/iris', '_save_summary_steps': 100}\n"
     ]
    }
   ],
   "source": [
    "# Build DNN with 2 hidden layer of 10 node each  .\n",
    "classifier = tf.estimator.DNNClassifier(\n",
    "    feature_columns=my_feature_columns,\n",
    "    # Two hidden layers of 10 nodes each.\n",
    "    hidden_units=[10, 10],\n",
    "    # The model must choose between 3 classes.\n",
    "    n_classes=3,  model_dir='models/iris')\n"
   ]
  },
  {
   "cell_type": "code",
   "execution_count": 160,
   "metadata": {},
   "outputs": [
    {
     "name": "stdout",
     "output_type": "stream",
     "text": [
      "models/iris\n",
      "INFO:tensorflow:Calling model_fn.\n",
      "INFO:tensorflow:Done calling model_fn.\n",
      "INFO:tensorflow:Create CheckpointSaverHook.\n",
      "INFO:tensorflow:Graph was finalized.\n",
      "INFO:tensorflow:Restoring parameters from models/iris/model.ckpt-1000\n",
      "INFO:tensorflow:Running local_init_op.\n",
      "INFO:tensorflow:Done running local_init_op.\n",
      "INFO:tensorflow:Saving checkpoints for 1001 into models/iris/model.ckpt.\n",
      "INFO:tensorflow:loss = 8.18244, step = 1001\n",
      "INFO:tensorflow:global_step/sec: 339.187\n",
      "INFO:tensorflow:loss = 7.531461, step = 1101 (0.297 sec)\n",
      "INFO:tensorflow:global_step/sec: 508.499\n",
      "INFO:tensorflow:loss = 9.819198, step = 1201 (0.197 sec)\n",
      "INFO:tensorflow:global_step/sec: 591.233\n",
      "INFO:tensorflow:loss = 7.0060205, step = 1301 (0.168 sec)\n",
      "INFO:tensorflow:global_step/sec: 675.051\n",
      "INFO:tensorflow:loss = 6.135168, step = 1401 (0.148 sec)\n",
      "INFO:tensorflow:global_step/sec: 733.707\n",
      "INFO:tensorflow:loss = 8.841253, step = 1501 (0.136 sec)\n",
      "INFO:tensorflow:global_step/sec: 686.389\n",
      "INFO:tensorflow:loss = 6.464685, step = 1601 (0.146 sec)\n",
      "INFO:tensorflow:global_step/sec: 604.24\n",
      "INFO:tensorflow:loss = 7.213212, step = 1701 (0.166 sec)\n",
      "INFO:tensorflow:global_step/sec: 626.276\n",
      "INFO:tensorflow:loss = 9.038044, step = 1801 (0.159 sec)\n",
      "INFO:tensorflow:global_step/sec: 679.061\n",
      "INFO:tensorflow:loss = 7.2990923, step = 1901 (0.147 sec)\n",
      "INFO:tensorflow:Saving checkpoints for 2000 into models/iris/model.ckpt.\n",
      "INFO:tensorflow:Loss for final step: 3.7360785.\n"
     ]
    },
    {
     "data": {
      "text/plain": [
       "<tensorflow.python.estimator.canned.dnn.DNNClassifier at 0x116e0fad0>"
      ]
     },
     "execution_count": 160,
     "metadata": {},
     "output_type": "execute_result"
    }
   ],
   "source": [
    "print classifier.model_dir\n",
    "# Train the Model.\n",
    "classifier.train(\n",
    "    input_fn=lambda:train_input_fn(train_x, train_y,\n",
    "                                             100),\n",
    "    steps=1000)\n"
   ]
  },
  {
   "cell_type": "code",
   "execution_count": null,
   "metadata": {},
   "outputs": [],
   "source": []
  }
 ],
 "metadata": {
  "kernelspec": {
   "display_name": "Python 2",
   "language": "python",
   "name": "python2"
  },
  "language_info": {
   "codemirror_mode": {
    "name": "ipython",
    "version": 2
   },
   "file_extension": ".py",
   "mimetype": "text/x-python",
   "name": "python",
   "nbconvert_exporter": "python",
   "pygments_lexer": "ipython2",
   "version": "2.7.10"
  }
 },
 "nbformat": 4,
 "nbformat_minor": 2
}
